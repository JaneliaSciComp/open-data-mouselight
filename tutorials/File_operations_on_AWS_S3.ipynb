{
 "cells": [
  {
   "cell_type": "markdown",
   "metadata": {},
   "source": [
    "# File operations on AWS S3 with Python\n",
    "There are several ways to access files on Amazon Web Services S3 where the FlyLight imagery, color depth MIPs, and templates are stored. A simple way is to use the [boto3](https://boto3.amazonaws.com/v1/documentation/api/latest/index.html) library:"
   ]
  },
  {
   "cell_type": "code",
   "execution_count": null,
   "metadata": {},
   "outputs": [],
   "source": [
    "import boto3"
   ]
  },
  {
   "cell_type": "markdown",
   "metadata": {},
   "source": [
    "S3 stores files (called *objects*) in *buckets*. With boto3, it's easy to access an S3 bucket:"
   ]
  },
  {
   "cell_type": "code",
   "execution_count": null,
   "metadata": {},
   "outputs": [],
   "source": [
    "S3_RESOURCE = boto3.resource('s3')\n",
    "bucket = S3_RESOURCE.Bucket(\"janelia-flylight-templates\")"
   ]
  },
  {
   "cell_type": "markdown",
   "metadata": {},
   "source": [
    "The resource we're creating above uses a high level API that gives us access to Amazon Web Services. Using the resource, we create a bucket object."
   ]
  },
  {
   "cell_type": "markdown",
   "metadata": {},
   "source": [
    "# Listing the contents of a bucket"
   ]
  },
  {
   "cell_type": "code",
   "execution_count": null,
   "metadata": {},
   "outputs": [],
   "source": [
    "for obj in bucket.objects.all():\n",
    "    print(obj.key)"
   ]
  },
  {
   "cell_type": "markdown",
   "metadata": {},
   "source": [
    "In the listing, you'll see what looks like folders or directories, and then files in those directories. Although S3 will show objects in a bucket with directories, there actually are none - storage in a bucket is flat, rather than heirarcical (more information [here](https://docs.aws.amazon.com/AmazonS3/latest/user-guide/using-folders.html))."
   ]
  },
  {
   "cell_type": "markdown",
   "metadata": {},
   "source": [
    "# Accessing individual files"
   ]
  },
  {
   "cell_type": "markdown",
   "metadata": {},
   "source": [
    "Let's look at one of the objects from the FlyLight_Gen1_GAL4 color depth MIP collection - a thumbnail of the original image. Objects are referred to with keys:"
   ]
  },
  {
   "cell_type": "code",
   "execution_count": null,
   "metadata": {},
   "outputs": [],
   "source": [
    "bucket = S3_RESOURCE.Bucket(\"janelia-mouselight-imagery\")\n",
    "KEY = \"tracings/tracing_complete/2014-06-24/G-001/base.swc\"\n",
    "obj = bucket.Object(KEY)\n",
    "print(obj)"
   ]
  },
  {
   "cell_type": "markdown",
   "metadata": {},
   "source": [
    "As you can see above, the object (an [S3 Object](https://boto3.amazonaws.com/v1/documentation/api/latest/reference/services/s3.html#S3.Object)) stores the bucket name and key. Let's get a few attributes:"
   ]
  },
  {
   "cell_type": "code",
   "execution_count": null,
   "metadata": {},
   "outputs": [],
   "source": [
    "print(\"File type is %s and the size is %d bytes\" % (obj.content_type, obj.content_length))"
   ]
  },
  {
   "cell_type": "markdown",
   "metadata": {},
   "source": [
    "# Downloading a file\n",
    "We can easily download a file from a bucket using the download_file method:"
   ]
  },
  {
   "cell_type": "code",
   "execution_count": null,
   "metadata": {},
   "outputs": [],
   "source": [
    "bucket.download_file(KEY, '/tmp/base.swc')"
   ]
  },
  {
   "cell_type": "markdown",
   "metadata": {},
   "source": [
    "The image was downloaded to /tmp/soma.txt. Let's display it:"
   ]
  },
  {
   "cell_type": "code",
   "execution_count": null,
   "metadata": {},
   "outputs": [],
   "source": [
    "with open('/tmp/base.swc', encoding='utf8') as file:\n",
    "    for line in file:\n",
    "        print(line.strip())"
   ]
  }
 ],
 "metadata": {
  "kernelspec": {
   "display_name": "Python 3",
   "language": "python",
   "name": "python3"
  },
  "language_info": {
   "codemirror_mode": {
    "name": "ipython",
    "version": 3
   },
   "file_extension": ".py",
   "mimetype": "text/x-python",
   "name": "python",
   "nbconvert_exporter": "python",
   "pygments_lexer": "ipython3",
   "version": "3.8.1"
  }
 },
 "nbformat": 4,
 "nbformat_minor": 4
}
